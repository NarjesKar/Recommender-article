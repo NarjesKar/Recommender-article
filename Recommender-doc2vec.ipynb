{
 "cells": [
  {
   "cell_type": "code",
   "execution_count": 1,
   "metadata": {
    "collapsed": true
   },
   "outputs": [],
   "source": [
    "import pandas as pd"
   ]
  },
  {
   "cell_type": "code",
   "execution_count": 4,
   "metadata": {
    "collapsed": true
   },
   "outputs": [],
   "source": [
    "import numpy as np\n",
    "import scipy\n",
    "import math\n",
    "import random"
   ]
  },
  {
   "cell_type": "code",
   "execution_count": 5,
   "metadata": {
    "collapsed": true
   },
   "outputs": [],
   "source": [
    "import importlib"
   ]
  },
  {
   "cell_type": "code",
   "execution_count": 6,
   "metadata": {
    "collapsed": false
   },
   "outputs": [],
   "source": [
    "import sklearn\n",
    "from nltk.corpus import stopwords\n",
    "from sklearn.cross_validation import train_test_split\n",
    "from sklearn.feature_extraction.text import TfidfVectorizer\n",
    "from sklearn.metrics.pairwise import cosine_similarity\n",
    "from scipy.sparse.linalg import svds"
   ]
  },
  {
   "cell_type": "code",
   "execution_count": 7,
   "metadata": {
    "collapsed": false
   },
   "outputs": [
    {
     "name": "stderr",
     "output_type": "stream",
     "text": [
      "C:\\Users\\HP\\Anaconda3\\lib\\site-packages\\gensim\\utils.py:1197: UserWarning: detected Windows; aliasing chunkize to chunkize_serial\n",
      "  warnings.warn(\"detected Windows; aliasing chunkize to chunkize_serial\")\n"
     ]
    }
   ],
   "source": [
    "from gensim import models"
   ]
  },
  {
   "cell_type": "code",
   "execution_count": 8,
   "metadata": {
    "collapsed": true
   },
   "outputs": [],
   "source": [
    "import Recommenders as Rd"
   ]
  },
  {
   "cell_type": "code",
   "execution_count": 9,
   "metadata": {
    "collapsed": false
   },
   "outputs": [
    {
     "data": {
      "text/plain": [
       "<module 'Recommenders' from 'C:\\\\Users\\\\HP\\\\Anaconda3\\\\Scripts\\\\Natural-Language-Processing\\\\Recommender-systems\\\\cleaned-version\\\\Recommenders.py'>"
      ]
     },
     "execution_count": 9,
     "metadata": {},
     "output_type": "execute_result"
    }
   ],
   "source": [
    "importlib.reload(Rd)"
   ]
  },
  {
   "cell_type": "code",
   "execution_count": 23,
   "metadata": {
    "collapsed": false
   },
   "outputs": [],
   "source": [
    "import Recommenders_v1 as Rd1"
   ]
  },
  {
   "cell_type": "markdown",
   "metadata": {
    "collapsed": true
   },
   "source": [
    "import matplotlib.pyplot as plt"
   ]
  },
  {
   "cell_type": "markdown",
   "metadata": {},
   "source": [
    "## Explore Interaction Events Data"
   ]
  },
  {
   "cell_type": "markdown",
   "metadata": {},
   "source": [
    "### -----------------------------------------------------------------------------------------------------------------------------------\n",
    "Contains logs of user interactions on shared articles. It can be joined to articles_shared.csv by contentId column.\n",
    "\n",
    "The eventType values are:\n",
    "\n",
    "    VIEW: The user has opened the article.\n",
    "    LIKE: The user has liked the article.\n",
    "    COMMENT CREATED: The user created a comment in the article.\n",
    "    FOLLOW: The user chose to be notified on any new comment in the article.\n",
    "    BOOKMARK: The user has bookmarked the article for easy return in the future.\n",
    "### -----------------------------------------------------------------------------------------------------------------------------------"
   ]
  },
  {
   "cell_type": "code",
   "execution_count": 10,
   "metadata": {
    "collapsed": true
   },
   "outputs": [],
   "source": [
    "interactions_df = pd.read_csv('users_interactions.csv')"
   ]
  },
  {
   "cell_type": "code",
   "execution_count": 11,
   "metadata": {
    "collapsed": true
   },
   "outputs": [],
   "source": [
    "articles_df = pd.read_csv('shared_articles.csv')"
   ]
  },
  {
   "cell_type": "raw",
   "metadata": {
    "collapsed": true
   },
   "source": [
    "interactions_df[:20]"
   ]
  },
  {
   "cell_type": "markdown",
   "metadata": {},
   "source": [
    "### Data Muning"
   ]
  },
  {
   "cell_type": "markdown",
   "metadata": {},
   "source": [
    "### -----------------------------------------------------------------------------------------------------------------------------------\n",
    "    Convert Event from categories to event strength :\n",
    "    we associate them with a weight or strength, assuming that, for example, a comment in an article indicates a higher interest\n",
    "    of the user on the item than a like, or than a simple view\n",
    "### -----------------------------------------------------------------------------------------------------------------------------------"
   ]
  },
  {
   "cell_type": "code",
   "execution_count": 12,
   "metadata": {
    "collapsed": true
   },
   "outputs": [],
   "source": [
    "event_type_strength = {\n",
    "   'VIEW': 1.0,\n",
    "   'LIKE': 2.0, \n",
    "   'BOOKMARK': 2.5, \n",
    "   'FOLLOW': 3.0,\n",
    "   'COMMENT CREATED': 4.0,  \n",
    "}\n",
    "# "
   ]
  },
  {
   "cell_type": "code",
   "execution_count": 13,
   "metadata": {
    "collapsed": true
   },
   "outputs": [],
   "source": [
    "articles_df = articles_df[articles_df['eventType'] == 'CONTENT SHARED']"
   ]
  },
  {
   "cell_type": "code",
   "execution_count": 14,
   "metadata": {
    "collapsed": true
   },
   "outputs": [],
   "source": [
    "\n",
    "interactions_df['eventStrength'] = interactions_df['eventType'].apply(lambda x: event_type_strength[x])"
   ]
  },
  {
   "cell_type": "code",
   "execution_count": 15,
   "metadata": {
    "collapsed": false
   },
   "outputs": [],
   "source": [
    "df_inter = interactions_df[['contentId','personId','eventStrength']]"
   ]
  },
  {
   "cell_type": "code",
   "execution_count": 16,
   "metadata": {
    "collapsed": true
   },
   "outputs": [],
   "source": [
    "df_acrticles = articles_df[['contentId','title','text']]"
   ]
  },
  {
   "cell_type": "raw",
   "metadata": {
    "collapsed": true
   },
   "source": [
    "articles_df[:20]"
   ]
  },
  {
   "cell_type": "code",
   "execution_count": 17,
   "metadata": {
    "collapsed": true
   },
   "outputs": [],
   "source": [
    "merged = pd.merge(df_inter, df_acrticles,how='inner', on=['contentId'])"
   ]
  },
  {
   "cell_type": "markdown",
   "metadata": {},
   "source": [
    "### Number of Users and items "
   ]
  },
  {
   "cell_type": "code",
   "execution_count": 19,
   "metadata": {
    "collapsed": false
   },
   "outputs": [
    {
     "name": "stdout",
     "output_type": "stream",
     "text": [
      "# of users 1895\n"
     ]
    }
   ],
   "source": [
    "users = merged['personId'].unique() ; print(\"# of users\" , len(users))"
   ]
  },
  {
   "cell_type": "code",
   "execution_count": 20,
   "metadata": {
    "collapsed": false
   },
   "outputs": [
    {
     "name": "stdout",
     "output_type": "stream",
     "text": [
      "# of items 2979\n"
     ]
    }
   ],
   "source": [
    "items = merged['contentId'].unique() ; print(\"# of items\" , len(items))"
   ]
  },
  {
   "cell_type": "code",
   "execution_count": 21,
   "metadata": {
    "collapsed": true
   },
   "outputs": [],
   "source": [
    "train_data, test_data = train_test_split(merged, test_size = 0.20, random_state=0)"
   ]
  },
  {
   "cell_type": "code",
   "execution_count": 30,
   "metadata": {
    "collapsed": true
   },
   "outputs": [],
   "source": [
    "user_id = users[5]"
   ]
  },
  {
   "cell_type": "markdown",
   "metadata": {},
   "source": [
    "### Test the model Content_based_Recommendation with Doc2vec"
   ]
  },
  {
   "cell_type": "markdown",
   "metadata": {},
   "source": [
    "##### ----- Build the recommender "
   ]
  },
  {
   "cell_type": "markdown",
   "metadata": {},
   "source": [
    "### Basic Steps of the recommender building : ----------------------------------------------------------------------------------------\n",
    "    It has the same principle as tfidf_features recommender here we just use an other feature given by doc2vec\n",
    "   \n",
    "    1 - we train the doc2vec model from articles contents ( 'title' and 'text' ) we got a matrix of (n_articles , n_features = 1000)\n",
    "    2 - for each item in user items list get its nearest neighbors in terms of cosine similarity (topn)\n",
    "    3 - Compute the score of each collected item in the neighbors set by summing all gotten scores \n",
    "    4 - select k-top best items\n",
    "### ------------------------------------------------------------------------------------------------------------------------------------------------------"
   ]
  },
  {
   "cell_type": "code",
   "execution_count": 27,
   "metadata": {
    "collapsed": false
   },
   "outputs": [],
   "source": [
    "model = models.Doc2Vec.load(\"doc2vec_article_1000\")"
   ]
  },
  {
   "cell_type": "code",
   "execution_count": 320,
   "metadata": {
    "collapsed": false
   },
   "outputs": [
    {
     "data": {
      "text/plain": [
       "<module 'Recommenders_v1' from 'C:\\\\Users\\\\HP\\\\Anaconda3\\\\Scripts\\\\Natural-Language-Processing\\\\Recommender-systems\\\\cleaned-version\\\\Recommenders_v1.py'>"
      ]
     },
     "execution_count": 320,
     "metadata": {},
     "output_type": "execute_result"
    }
   ],
   "source": [
    "importlib.reload(Rd1)"
   ]
  },
  {
   "cell_type": "code",
   "execution_count": 321,
   "metadata": {
    "collapsed": true
   },
   "outputs": [],
   "source": [
    "doc_model = Rd1.content_relatedness_doc2vec_py()"
   ]
  },
  {
   "cell_type": "code",
   "execution_count": 322,
   "metadata": {
    "collapsed": true
   },
   "outputs": [],
   "source": [
    "doc_model.create(train_data, 'personId', 'contentId')"
   ]
  },
  {
   "cell_type": "code",
   "execution_count": 323,
   "metadata": {
    "collapsed": false
   },
   "outputs": [
    {
     "name": "stdout",
     "output_type": "stream",
     "text": [
      "Start building user profile\n",
      "Done!\n"
     ]
    }
   ],
   "source": [
    "df =  doc_model.recommend(user_id,model,top = 30,topn = 40)"
   ]
  },
  {
   "cell_type": "code",
   "execution_count": 324,
   "metadata": {
    "collapsed": false
   },
   "outputs": [
    {
     "data": {
      "text/html": [
       "<div>\n",
       "<table border=\"1\" class=\"dataframe\">\n",
       "  <thead>\n",
       "    <tr style=\"text-align: right;\">\n",
       "      <th></th>\n",
       "      <th>title</th>\n",
       "      <th>contentId</th>\n",
       "      <th>score</th>\n",
       "    </tr>\n",
       "  </thead>\n",
       "  <tbody>\n",
       "    <tr>\n",
       "      <th>55</th>\n",
       "      <td>Fooling The Machine</td>\n",
       "      <td>8219310215587599928</td>\n",
       "      <td>27.286744</td>\n",
       "    </tr>\n",
       "    <tr>\n",
       "      <th>116</th>\n",
       "      <td>Google DeepMind researchers built a deep-learn...</td>\n",
       "      <td>-3751249597609107201</td>\n",
       "      <td>24.972333</td>\n",
       "    </tr>\n",
       "    <tr>\n",
       "      <th>10734</th>\n",
       "      <td>Deep learning software knows that a rose is a ...</td>\n",
       "      <td>5314107418764884230</td>\n",
       "      <td>23.611559</td>\n",
       "    </tr>\n",
       "    <tr>\n",
       "      <th>5399</th>\n",
       "      <td>NYT: Google To Announce Alexa Competitor Calle...</td>\n",
       "      <td>7168347449326627154</td>\n",
       "      <td>23.125300</td>\n",
       "    </tr>\n",
       "    <tr>\n",
       "      <th>9470</th>\n",
       "      <td>Need Some AI? Yeah, There's a Marketplace for ...</td>\n",
       "      <td>-455124319026316634</td>\n",
       "      <td>22.408055</td>\n",
       "    </tr>\n",
       "    <tr>\n",
       "      <th>94</th>\n",
       "      <td>AI can learn from data without ever having acc...</td>\n",
       "      <td>-1173087925894083974</td>\n",
       "      <td>20.323239</td>\n",
       "    </tr>\n",
       "    <tr>\n",
       "      <th>8891</th>\n",
       "      <td>YouTube's New Messenger Means You'll Never Hav...</td>\n",
       "      <td>4563606877148407012</td>\n",
       "      <td>20.171472</td>\n",
       "    </tr>\n",
       "    <tr>\n",
       "      <th>8787</th>\n",
       "      <td>Facebook Messenger bots are here and they want...</td>\n",
       "      <td>-4615575698508618335</td>\n",
       "      <td>19.870518</td>\n",
       "    </tr>\n",
       "    <tr>\n",
       "      <th>5599</th>\n",
       "      <td>A new Facebook chatbot could help you find you...</td>\n",
       "      <td>2546657529517570876</td>\n",
       "      <td>19.754812</td>\n",
       "    </tr>\n",
       "    <tr>\n",
       "      <th>7554</th>\n",
       "      <td>Here's what Viv looks like, the next generatio...</td>\n",
       "      <td>5979676385148714519</td>\n",
       "      <td>19.447297</td>\n",
       "    </tr>\n",
       "    <tr>\n",
       "      <th>5617</th>\n",
       "      <td>Acquia a leader in the 2017 Forrester Wave for...</td>\n",
       "      <td>-3660106964555224100</td>\n",
       "      <td>19.172587</td>\n",
       "    </tr>\n",
       "    <tr>\n",
       "      <th>28</th>\n",
       "      <td>The Man Selling Shovels in the Machine-Learnin...</td>\n",
       "      <td>-4316394955033262743</td>\n",
       "      <td>18.931503</td>\n",
       "    </tr>\n",
       "    <tr>\n",
       "      <th>185</th>\n",
       "      <td>Most experts say AI isn't as much of a threat ...</td>\n",
       "      <td>-637050915727878966</td>\n",
       "      <td>18.506433</td>\n",
       "    </tr>\n",
       "    <tr>\n",
       "      <th>7158</th>\n",
       "      <td>Which countries study which languages, and wha...</td>\n",
       "      <td>8289800212949675494</td>\n",
       "      <td>18.245138</td>\n",
       "    </tr>\n",
       "    <tr>\n",
       "      <th>13977</th>\n",
       "      <td>Facebook's Artificial Intelligence Research la...</td>\n",
       "      <td>4508362112182399467</td>\n",
       "      <td>18.018181</td>\n",
       "    </tr>\n",
       "    <tr>\n",
       "      <th>14034</th>\n",
       "      <td>Meet Parsey's Cousins: Syntax for 40 languages...</td>\n",
       "      <td>5237574390644778994</td>\n",
       "      <td>17.897585</td>\n",
       "    </tr>\n",
       "    <tr>\n",
       "      <th>271</th>\n",
       "      <td>Campanha do Dicionário Houaiss pretende mudar ...</td>\n",
       "      <td>-4872447160271266802</td>\n",
       "      <td>17.593185</td>\n",
       "    </tr>\n",
       "    <tr>\n",
       "      <th>7534</th>\n",
       "      <td>Is the Chatbot Trend One Big Misunderstanding?</td>\n",
       "      <td>-9002191823887486987</td>\n",
       "      <td>17.364372</td>\n",
       "    </tr>\n",
       "    <tr>\n",
       "      <th>608</th>\n",
       "      <td>Irresistível: cebola recheada com carne moída ...</td>\n",
       "      <td>5446022903655412342</td>\n",
       "      <td>17.036472</td>\n",
       "    </tr>\n",
       "    <tr>\n",
       "      <th>7448</th>\n",
       "      <td>Singapore bank wants you to talk to its chatbo...</td>\n",
       "      <td>-9071883412530082330</td>\n",
       "      <td>16.894504</td>\n",
       "    </tr>\n",
       "    <tr>\n",
       "      <th>10728</th>\n",
       "      <td>Google Is About to Supercharge Its TensorFlow ...</td>\n",
       "      <td>3564394485543941353</td>\n",
       "      <td>16.518660</td>\n",
       "    </tr>\n",
       "    <tr>\n",
       "      <th>14069</th>\n",
       "      <td>How to choose algorithms for Microsoft Azure M...</td>\n",
       "      <td>444378495316508239</td>\n",
       "      <td>16.364148</td>\n",
       "    </tr>\n",
       "    <tr>\n",
       "      <th>3924</th>\n",
       "      <td>Android irá recomendar aplicativos baseado na ...</td>\n",
       "      <td>-387651900461462767</td>\n",
       "      <td>16.324719</td>\n",
       "    </tr>\n",
       "    <tr>\n",
       "      <th>14189</th>\n",
       "      <td>SyntaxNet in context: Understanding Google's n...</td>\n",
       "      <td>6757348772114374254</td>\n",
       "      <td>16.282696</td>\n",
       "    </tr>\n",
       "    <tr>\n",
       "      <th>10692</th>\n",
       "      <td>Artificial Intelligence Can Now Design Realist...</td>\n",
       "      <td>2271793263120018251</td>\n",
       "      <td>16.125484</td>\n",
       "    </tr>\n",
       "    <tr>\n",
       "      <th>653</th>\n",
       "      <td>A lição de um grande mestre de xadrez para res...</td>\n",
       "      <td>-3113913063173722290</td>\n",
       "      <td>16.121966</td>\n",
       "    </tr>\n",
       "    <tr>\n",
       "      <th>395</th>\n",
       "      <td>Sem Parar vs Conectcar - DanBP.org</td>\n",
       "      <td>-5691008411030226594</td>\n",
       "      <td>16.042316</td>\n",
       "    </tr>\n",
       "    <tr>\n",
       "      <th>9455</th>\n",
       "      <td>Google CEO: Mobile will fade, AI will rise</td>\n",
       "      <td>2793899372921426050</td>\n",
       "      <td>15.763159</td>\n",
       "    </tr>\n",
       "    <tr>\n",
       "      <th>7447</th>\n",
       "      <td>Serious Business: Is The Sharing Economy Good ...</td>\n",
       "      <td>-8239286201029609369</td>\n",
       "      <td>15.643875</td>\n",
       "    </tr>\n",
       "    <tr>\n",
       "      <th>12343</th>\n",
       "      <td>​Google digs deeper on machine learning with n...</td>\n",
       "      <td>1058405970043104639</td>\n",
       "      <td>15.564128</td>\n",
       "    </tr>\n",
       "  </tbody>\n",
       "</table>\n",
       "</div>"
      ],
      "text/plain": [
       "                                                   title            contentId  \\\n",
       "55                                   Fooling The Machine  8219310215587599928   \n",
       "116    Google DeepMind researchers built a deep-learn... -3751249597609107201   \n",
       "10734  Deep learning software knows that a rose is a ...  5314107418764884230   \n",
       "5399   NYT: Google To Announce Alexa Competitor Calle...  7168347449326627154   \n",
       "9470   Need Some AI? Yeah, There's a Marketplace for ...  -455124319026316634   \n",
       "94     AI can learn from data without ever having acc... -1173087925894083974   \n",
       "8891   YouTube's New Messenger Means You'll Never Hav...  4563606877148407012   \n",
       "8787   Facebook Messenger bots are here and they want... -4615575698508618335   \n",
       "5599   A new Facebook chatbot could help you find you...  2546657529517570876   \n",
       "7554   Here's what Viv looks like, the next generatio...  5979676385148714519   \n",
       "5617   Acquia a leader in the 2017 Forrester Wave for... -3660106964555224100   \n",
       "28     The Man Selling Shovels in the Machine-Learnin... -4316394955033262743   \n",
       "185    Most experts say AI isn't as much of a threat ...  -637050915727878966   \n",
       "7158   Which countries study which languages, and wha...  8289800212949675494   \n",
       "13977  Facebook's Artificial Intelligence Research la...  4508362112182399467   \n",
       "14034  Meet Parsey's Cousins: Syntax for 40 languages...  5237574390644778994   \n",
       "271    Campanha do Dicionário Houaiss pretende mudar ... -4872447160271266802   \n",
       "7534      Is the Chatbot Trend One Big Misunderstanding? -9002191823887486987   \n",
       "608    Irresistível: cebola recheada com carne moída ...  5446022903655412342   \n",
       "7448   Singapore bank wants you to talk to its chatbo... -9071883412530082330   \n",
       "10728  Google Is About to Supercharge Its TensorFlow ...  3564394485543941353   \n",
       "14069  How to choose algorithms for Microsoft Azure M...   444378495316508239   \n",
       "3924   Android irá recomendar aplicativos baseado na ...  -387651900461462767   \n",
       "14189  SyntaxNet in context: Understanding Google's n...  6757348772114374254   \n",
       "10692  Artificial Intelligence Can Now Design Realist...  2271793263120018251   \n",
       "653    A lição de um grande mestre de xadrez para res... -3113913063173722290   \n",
       "395                   Sem Parar vs Conectcar - DanBP.org -5691008411030226594   \n",
       "9455          Google CEO: Mobile will fade, AI will rise  2793899372921426050   \n",
       "7447   Serious Business: Is The Sharing Economy Good ... -8239286201029609369   \n",
       "12343  ​Google digs deeper on machine learning with n...  1058405970043104639   \n",
       "\n",
       "           score  \n",
       "55     27.286744  \n",
       "116    24.972333  \n",
       "10734  23.611559  \n",
       "5399   23.125300  \n",
       "9470   22.408055  \n",
       "94     20.323239  \n",
       "8891   20.171472  \n",
       "8787   19.870518  \n",
       "5599   19.754812  \n",
       "7554   19.447297  \n",
       "5617   19.172587  \n",
       "28     18.931503  \n",
       "185    18.506433  \n",
       "7158   18.245138  \n",
       "13977  18.018181  \n",
       "14034  17.897585  \n",
       "271    17.593185  \n",
       "7534   17.364372  \n",
       "608    17.036472  \n",
       "7448   16.894504  \n",
       "10728  16.518660  \n",
       "14069  16.364148  \n",
       "3924   16.324719  \n",
       "14189  16.282696  \n",
       "10692  16.125484  \n",
       "653    16.121966  \n",
       "395    16.042316  \n",
       "9455   15.763159  \n",
       "7447   15.643875  \n",
       "12343  15.564128  "
      ]
     },
     "execution_count": 324,
     "metadata": {},
     "output_type": "execute_result"
    }
   ],
   "source": [
    "df"
   ]
  }
 ],
 "metadata": {
  "anaconda-cloud": {},
  "kernelspec": {
   "display_name": "Python [Root]",
   "language": "python",
   "name": "Python [Root]"
  },
  "language_info": {
   "codemirror_mode": {
    "name": "ipython",
    "version": 3
   },
   "file_extension": ".py",
   "mimetype": "text/x-python",
   "name": "python",
   "nbconvert_exporter": "python",
   "pygments_lexer": "ipython3",
   "version": "3.5.2"
  }
 },
 "nbformat": 4,
 "nbformat_minor": 0
}
