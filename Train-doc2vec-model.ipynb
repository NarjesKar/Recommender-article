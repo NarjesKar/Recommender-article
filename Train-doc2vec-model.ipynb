{
 "cells": [
  {
   "cell_type": "code",
   "execution_count": 3,
   "metadata": {
    "collapsed": true
   },
   "outputs": [],
   "source": [
    "import pandas as pd"
   ]
  },
  {
   "cell_type": "code",
   "execution_count": 4,
   "metadata": {
    "collapsed": true
   },
   "outputs": [],
   "source": [
    "import re"
   ]
  },
  {
   "cell_type": "code",
   "execution_count": 5,
   "metadata": {
    "collapsed": false
   },
   "outputs": [
    {
     "name": "stderr",
     "output_type": "stream",
     "text": [
      "C:\\Users\\HP\\Anaconda3\\lib\\site-packages\\gensim\\utils.py:1197: UserWarning: detected Windows; aliasing chunkize to chunkize_serial\n",
      "  warnings.warn(\"detected Windows; aliasing chunkize to chunkize_serial\")\n"
     ]
    }
   ],
   "source": [
    "from gensim import models"
   ]
  },
  {
   "cell_type": "code",
   "execution_count": 6,
   "metadata": {
    "collapsed": false
   },
   "outputs": [],
   "source": [
    "from gensim.models.doc2vec import TaggedDocument"
   ]
  },
  {
   "cell_type": "code",
   "execution_count": 7,
   "metadata": {
    "collapsed": true
   },
   "outputs": [],
   "source": [
    "import numpy as np\n",
    "import scipy\n",
    "import math\n",
    "import random"
   ]
  },
  {
   "cell_type": "markdown",
   "metadata": {
    "collapsed": false
   },
   "source": [
    "import sklearn\n",
    "from nltk.corpus import stopwords\n",
    "from sklearn.cross_validation import train_test_split\n",
    "from sklearn.feature_extraction.text import TfidfVectorizer\n",
    "from sklearn.metrics.pairwise import cosine_similarity\n",
    "from scipy.sparse.linalg import svds"
   ]
  },
  {
   "cell_type": "code",
   "execution_count": 8,
   "metadata": {
    "collapsed": true
   },
   "outputs": [],
   "source": [
    "from nltk import sent_tokenize"
   ]
  },
  {
   "cell_type": "code",
   "execution_count": 9,
   "metadata": {
    "collapsed": true
   },
   "outputs": [],
   "source": [
    "articles_df = pd.read_csv('shared_articles.csv')"
   ]
  },
  {
   "cell_type": "code",
   "execution_count": 36,
   "metadata": {
    "collapsed": true
   },
   "outputs": [],
   "source": [
    "interactions_df = pd.read_csv('users_interactions.csv')"
   ]
  },
  {
   "cell_type": "code",
   "execution_count": 46,
   "metadata": {
    "collapsed": false
   },
   "outputs": [],
   "source": [
    "df_acrticles = articles_df[['contentId','title','text']]\n",
    "df_inter = interactions_df[['contentId','personId']]"
   ]
  },
  {
   "cell_type": "code",
   "execution_count": 47,
   "metadata": {
    "collapsed": false
   },
   "outputs": [],
   "source": [
    "merged = pd.merge(df_inter, df_acrticles,how='inner', on=['contentId'])"
   ]
  },
  {
   "cell_type": "code",
   "execution_count": 48,
   "metadata": {
    "collapsed": false
   },
   "outputs": [
    {
     "data": {
      "text/plain": [
       "2987"
      ]
     },
     "execution_count": 48,
     "metadata": {},
     "output_type": "execute_result"
    }
   ],
   "source": [
    "texts = (merged).drop_duplicates('contentId')['text'].tolist() ; len(texts)"
   ]
  },
  {
   "cell_type": "code",
   "execution_count": 49,
   "metadata": {
    "collapsed": false
   },
   "outputs": [
    {
     "data": {
      "text/plain": [
       "2987"
      ]
     },
     "execution_count": 49,
     "metadata": {},
     "output_type": "execute_result"
    }
   ],
   "source": [
    "titles = (merged).drop_duplicates('contentId')['title'].tolist() ; len(titles)"
   ]
  },
  {
   "cell_type": "code",
   "execution_count": 50,
   "metadata": {
    "collapsed": false
   },
   "outputs": [
    {
     "data": {
      "text/plain": [
       "2987"
      ]
     },
     "execution_count": 50,
     "metadata": {},
     "output_type": "execute_result"
    }
   ],
   "source": [
    "ident = (merged).drop_duplicates('contentId')['contentId'].tolist() ; len(ident)"
   ]
  },
  {
   "cell_type": "markdown",
   "metadata": {},
   "source": [
    "### Build the Doc2vec Input Data"
   ]
  },
  {
   "cell_type": "code",
   "execution_count": 21,
   "metadata": {
    "collapsed": true
   },
   "outputs": [],
   "source": [
    "# Build the input for one text\n",
    "def text2data(text,title,tag_id):\n",
    "    text = text + title\n",
    "    txt = sent_tokenize(text)\n",
    "    words = []\n",
    "    tags = []\n",
    "    for sent in txt:\n",
    "        words.append(re.findall(r\"[\\w*|\\d*]\\S*[\\w|\\d]|[,!?;()\\d*\\w]\", sent))\n",
    "        tags.append(str(tag_id))\n",
    "    return words,tags"
   ]
  },
  {
   "cell_type": "raw",
   "metadata": {
    "collapsed": false
   },
   "source": [
    "# Build the input for the whore corpus\n",
    "corpus = []\n",
    "tags = []\n",
    "for i in range(len(texts)):\n",
    "    words , tagged = text2data(texts[i],titles[i],ident[i])\n",
    "    corpus.extend(words)\n",
    "    tags.extend(tagged)"
   ]
  },
  {
   "cell_type": "code",
   "execution_count": 51,
   "metadata": {
    "collapsed": false
   },
   "outputs": [],
   "source": [
    "docs = []\n",
    "for i in range(len(texts)):\n",
    "    wds , tagged = text2data(texts[i],titles[i],ident[i])\n",
    "    for st in range(len(wds)):\n",
    "        docs.append(TaggedDocument(words=wds[st], tags=[tagged[st]]))"
   ]
  },
  {
   "cell_type": "markdown",
   "metadata": {},
   "source": [
    "## Build the Doc2vec Model"
   ]
  },
  {
   "cell_type": "code",
   "execution_count": 56,
   "metadata": {
    "collapsed": true
   },
   "outputs": [],
   "source": [
    "model = models.Doc2Vec(vector_size=1000, window=4, min_count=5, workers=7, epochs=10,verbose = 1)"
   ]
  },
  {
   "cell_type": "code",
   "execution_count": 57,
   "metadata": {
    "collapsed": false
   },
   "outputs": [],
   "source": [
    "model.build_vocab(docs)"
   ]
  },
  {
   "cell_type": "code",
   "execution_count": 58,
   "metadata": {
    "collapsed": false
   },
   "outputs": [
    {
     "name": "stdout",
     "output_type": "stream",
     "text": [
      "Start training process...\n"
     ]
    },
    {
     "name": "stderr",
     "output_type": "stream",
     "text": [
      "C:\\Users\\HP\\Anaconda3\\lib\\site-packages\\ipykernel\\__main__.py:2: DeprecationWarning: Call to deprecated `iter` (Attribute will be removed in 4.0.0, use self.epochs instead).\n",
      "  from ipykernel import kernelapp as app\n"
     ]
    }
   ],
   "source": [
    "print ('Start training process...')\n",
    "model.train(docs, total_examples=model.corpus_count, epochs=model.iter)"
   ]
  },
  {
   "cell_type": "code",
   "execution_count": 59,
   "metadata": {
    "collapsed": true
   },
   "outputs": [],
   "source": [
    "model.save(\"doc2vec_article_1000\")"
   ]
  },
  {
   "cell_type": "markdown",
   "metadata": {},
   "source": [
    "## Get Most similar Documents "
   ]
  },
  {
   "cell_type": "code",
   "execution_count": 33,
   "metadata": {
    "collapsed": false
   },
   "outputs": [
    {
     "name": "stdout",
     "output_type": "stream",
     "text": [
      "[('-3759596852696130492', 0.16361592710018158), ('6044362651232258738', 0.15363657474517822), ('-7814257818245609902', 0.1331198513507843), ('-447851796385928420', 0.13288384675979614), ('-4333056764244640444', 0.13283848762512207), ('-4095842175692097942', 0.13279742002487183), ('4102576381061107965', 0.13213461637496948), ('-532999578436827210', 0.1304732710123062), ('-3077386995956755130', 0.13018062710762024), ('7000840123067725009', 0.12977038323879242), ('3989649621607163677', 0.12709620594978333), ('240943776326872028', 0.12684029340744019), ('-7518373517401484139', 0.1206541359424591), ('-2778760500673113802', 0.12061255425214767), ('310515487419366995', 0.12029175460338593), ('-6752460077509522132', 0.11998197436332703), ('-8189315446782327370', 0.11639401316642761), ('-8047634385511625486', 0.11588315665721893), ('-498521148402713730', 0.11571351438760757), ('-21036008762564671', 0.11361254751682281), ('-9099155556042679205', 0.11346578598022461), ('589254894302309232', 0.11286894977092743), ('-1172724258904585136', 0.11149556934833527), ('-5879360586463363298', 0.11045023798942566), ('3437437537867086722', 0.11034737527370453), ('-3073433549435888423', 0.1101733148097992), ('8522523292310933696', 0.11012719571590424), ('2203293143157288172', 0.10999773442745209), ('-5313466754735123256', 0.10904491692781448), ('1137471872769164371', 0.10835011303424835), ('3268064929368559554', 0.1079075038433075), ('3779639438468810958', 0.10676957666873932), ('5964888566269323942', 0.10671509802341461), ('-3886927790136130174', 0.10670711100101471), ('7191770005709670956', 0.10656829178333282), ('-7387185690512762935', 0.10650576651096344), ('-9171475473795142532', 0.10618124902248383), ('2515874237935914763', 0.10336191207170486), ('-2136400115854451336', 0.10258897393941879), ('-4866987227632887920', 0.10200823843479156), ('8657408509986329668', 0.101316899061203), ('-5941854046477982982', 0.10051807016134262), ('5338677278233757627', 0.10015757381916046), ('2625883933130361261', 0.09991861879825592), ('7993526700719577624', 0.09969784319400787), ('5258604889412591249', 0.099559485912323), ('7511744555558105059', 0.09799512475728989), ('896159636285333275', 0.09768857806921005), ('-6340141548068597572', 0.09729623794555664), ('-3653998742295730637', 0.09714880585670471)]\n"
     ]
    }
   ],
   "source": [
    "print(model.docvecs.most_similar([str(ident[5])],topn = 50))"
   ]
  },
  {
   "cell_type": "code",
   "execution_count": null,
   "metadata": {
    "collapsed": true
   },
   "outputs": [],
   "source": []
  }
 ],
 "metadata": {
  "kernelspec": {
   "display_name": "Python [Root]",
   "language": "python",
   "name": "Python [Root]"
  },
  "language_info": {
   "codemirror_mode": {
    "name": "ipython",
    "version": 3
   },
   "file_extension": ".py",
   "mimetype": "text/x-python",
   "name": "python",
   "nbconvert_exporter": "python",
   "pygments_lexer": "ipython3",
   "version": "3.5.2"
  }
 },
 "nbformat": 4,
 "nbformat_minor": 0
}
