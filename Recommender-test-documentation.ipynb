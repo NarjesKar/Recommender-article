{
 "cells": [
  {
   "cell_type": "code",
   "execution_count": 1,
   "metadata": {
    "collapsed": true
   },
   "outputs": [],
   "source": [
    "import pandas as pd"
   ]
  },
  {
   "cell_type": "code",
   "execution_count": 2,
   "metadata": {
    "collapsed": true
   },
   "outputs": [],
   "source": [
    "import numpy as np\n",
    "import scipy\n",
    "import math\n",
    "import random"
   ]
  },
  {
   "cell_type": "code",
   "execution_count": 3,
   "metadata": {
    "collapsed": true
   },
   "outputs": [],
   "source": [
    "import importlib"
   ]
  },
  {
   "cell_type": "code",
   "execution_count": 4,
   "metadata": {
    "collapsed": false
   },
   "outputs": [
    {
     "name": "stderr",
     "output_type": "stream",
     "text": [
      "C:\\Users\\HP\\Anaconda3\\lib\\site-packages\\gensim\\utils.py:1197: UserWarning: detected Windows; aliasing chunkize to chunkize_serial\n",
      "  warnings.warn(\"detected Windows; aliasing chunkize to chunkize_serial\")\n"
     ]
    }
   ],
   "source": [
    "import utils as u"
   ]
  },
  {
   "cell_type": "code",
   "execution_count": 5,
   "metadata": {
    "collapsed": false
   },
   "outputs": [],
   "source": [
    "import sklearn\n",
    "from nltk.corpus import stopwords\n",
    "from sklearn.cross_validation import train_test_split\n",
    "from sklearn.feature_extraction.text import TfidfVectorizer\n",
    "from sklearn.metrics.pairwise import cosine_similarity\n",
    "from scipy.sparse.linalg import svds"
   ]
  },
  {
   "cell_type": "code",
   "execution_count": 6,
   "metadata": {
    "collapsed": false
   },
   "outputs": [],
   "source": [
    "from gensim import models"
   ]
  },
  {
   "cell_type": "code",
   "execution_count": 7,
   "metadata": {
    "collapsed": true
   },
   "outputs": [],
   "source": [
    "import Recommenders as Rd"
   ]
  },
  {
   "cell_type": "code",
   "execution_count": 8,
   "metadata": {
    "collapsed": false
   },
   "outputs": [
    {
     "data": {
      "text/plain": [
       "<module 'Recommenders' from 'C:\\\\Users\\\\HP\\\\Anaconda3\\\\Scripts\\\\Natural-Language-Processing\\\\Recommender-systems\\\\cleaned-version\\\\Recommenders.py'>"
      ]
     },
     "execution_count": 8,
     "metadata": {},
     "output_type": "execute_result"
    }
   ],
   "source": [
    "importlib.reload(Rd)"
   ]
  },
  {
   "cell_type": "markdown",
   "metadata": {
    "collapsed": true
   },
   "source": [
    "import matplotlib.pyplot as plt"
   ]
  },
  {
   "cell_type": "markdown",
   "metadata": {},
   "source": [
    "## Explore Interaction Events Data"
   ]
  },
  {
   "cell_type": "markdown",
   "metadata": {},
   "source": [
    "### -----------------------------------------------------------------------------------------------------------------------------------\n",
    "Contains logs of user interactions on shared articles. It can be joined to articles_shared.csv by contentId column.\n",
    "\n",
    "The eventType values are:\n",
    "\n",
    "    VIEW: The user has opened the article.\n",
    "    LIKE: The user has liked the article.\n",
    "    COMMENT CREATED: The user created a comment in the article.\n",
    "    FOLLOW: The user chose to be notified on any new comment in the article.\n",
    "    BOOKMARK: The user has bookmarked the article for easy return in the future.\n",
    "### -----------------------------------------------------------------------------------------------------------------------------------"
   ]
  },
  {
   "cell_type": "code",
   "execution_count": 9,
   "metadata": {
    "collapsed": true
   },
   "outputs": [],
   "source": [
    "interactions_df = pd.read_csv('users_interactions.csv')"
   ]
  },
  {
   "cell_type": "code",
   "execution_count": 10,
   "metadata": {
    "collapsed": true
   },
   "outputs": [],
   "source": [
    "articles_df = pd.read_csv('shared_articles.csv')"
   ]
  },
  {
   "cell_type": "raw",
   "metadata": {
    "collapsed": true
   },
   "source": [
    "interactions_df[:20]"
   ]
  },
  {
   "cell_type": "markdown",
   "metadata": {},
   "source": [
    "### Data Muning"
   ]
  },
  {
   "cell_type": "markdown",
   "metadata": {},
   "source": [
    "### -----------------------------------------------------------------------------------------------------------------------------------\n",
    "    Convert Event from categories to event strength :\n",
    "    we associate them with a weight or strength, assuming that, for example, a comment in an article indicates a higher interest\n",
    "    of the user on the item than a like, or than a simple view\n",
    "### -----------------------------------------------------------------------------------------------------------------------------------"
   ]
  },
  {
   "cell_type": "code",
   "execution_count": 15,
   "metadata": {
    "collapsed": true
   },
   "outputs": [],
   "source": [
    "event_type_strength = {\n",
    "   'VIEW': 1.0,\n",
    "   'LIKE': 2.0, \n",
    "   'BOOKMARK': 2.5, \n",
    "   'FOLLOW': 3.0,\n",
    "   'COMMENT CREATED': 4.0,  \n",
    "}\n",
    "# "
   ]
  },
  {
   "cell_type": "code",
   "execution_count": 16,
   "metadata": {
    "collapsed": true
   },
   "outputs": [],
   "source": [
    "articles_df = articles_df[articles_df['eventType'] == 'CONTENT SHARED']"
   ]
  },
  {
   "cell_type": "code",
   "execution_count": 17,
   "metadata": {
    "collapsed": true
   },
   "outputs": [],
   "source": [
    "\n",
    "interactions_df['eventStrength'] = interactions_df['eventType'].apply(lambda x: event_type_strength[x])"
   ]
  },
  {
   "cell_type": "code",
   "execution_count": 18,
   "metadata": {
    "collapsed": false
   },
   "outputs": [],
   "source": [
    "df_inter = interactions_df[['contentId','personId','eventStrength']]"
   ]
  },
  {
   "cell_type": "code",
   "execution_count": 19,
   "metadata": {
    "collapsed": true
   },
   "outputs": [],
   "source": [
    "df_acrticles = articles_df[['contentId','title','text']]"
   ]
  },
  {
   "cell_type": "raw",
   "metadata": {
    "collapsed": true
   },
   "source": [
    "articles_df[:20]"
   ]
  },
  {
   "cell_type": "code",
   "execution_count": 20,
   "metadata": {
    "collapsed": true
   },
   "outputs": [],
   "source": [
    "merged = pd.merge(df_inter, df_acrticles,how='inner', on=['contentId'])"
   ]
  },
  {
   "cell_type": "markdown",
   "metadata": {
    "collapsed": true
   },
   "source": [
    "### Score Items popularity over user interactions"
   ]
  },
  {
   "cell_type": "markdown",
   "metadata": {},
   "source": [
    "###### Just a test to show how to compute the popularity of an item based on the user interactions"
   ]
  },
  {
   "cell_type": "code",
   "execution_count": 21,
   "metadata": {
    "collapsed": false
   },
   "outputs": [],
   "source": [
    "articles_grouped = merged.groupby(['contentId']).agg({'eventStrength': 'count'}).reset_index()"
   ]
  },
  {
   "cell_type": "code",
   "execution_count": 22,
   "metadata": {
    "collapsed": false
   },
   "outputs": [
    {
     "data": {
      "text/html": [
       "<div>\n",
       "<table border=\"1\" class=\"dataframe\">\n",
       "  <thead>\n",
       "    <tr style=\"text-align: right;\">\n",
       "      <th></th>\n",
       "      <th>contentId</th>\n",
       "      <th>eventStrength</th>\n",
       "      <th>percentage</th>\n",
       "    </tr>\n",
       "  </thead>\n",
       "  <tbody>\n",
       "    <tr>\n",
       "      <th>0</th>\n",
       "      <td>-9222795471790223670</td>\n",
       "      <td>26</td>\n",
       "      <td>0.035977</td>\n",
       "    </tr>\n",
       "    <tr>\n",
       "      <th>1</th>\n",
       "      <td>-9216926795620865886</td>\n",
       "      <td>21</td>\n",
       "      <td>0.029058</td>\n",
       "    </tr>\n",
       "    <tr>\n",
       "      <th>2</th>\n",
       "      <td>-9194572880052200111</td>\n",
       "      <td>29</td>\n",
       "      <td>0.040128</td>\n",
       "    </tr>\n",
       "    <tr>\n",
       "      <th>3</th>\n",
       "      <td>-9192549002213406534</td>\n",
       "      <td>56</td>\n",
       "      <td>0.077488</td>\n",
       "    </tr>\n",
       "    <tr>\n",
       "      <th>4</th>\n",
       "      <td>-9190737901804729417</td>\n",
       "      <td>9</td>\n",
       "      <td>0.012453</td>\n",
       "    </tr>\n",
       "  </tbody>\n",
       "</table>\n",
       "</div>"
      ],
      "text/plain": [
       "             contentId  eventStrength  percentage\n",
       "0 -9222795471790223670             26    0.035977\n",
       "1 -9216926795620865886             21    0.029058\n",
       "2 -9194572880052200111             29    0.040128\n",
       "3 -9192549002213406534             56    0.077488\n",
       "4 -9190737901804729417              9    0.012453"
      ]
     },
     "execution_count": 22,
     "metadata": {},
     "output_type": "execute_result"
    }
   ],
   "source": [
    "grouped_sum = articles_grouped['eventStrength'].sum() # Get the sum of all counts\n",
    "articles_grouped['percentage']  = articles_grouped['eventStrength'].div(grouped_sum)*100 # Score each articles\n",
    "articles_grouped.sort_values(['eventStrength', 'contentId'], ascending = [0,1]) ; articles_grouped.head()"
   ]
  },
  {
   "cell_type": "markdown",
   "metadata": {},
   "source": [
    "### Number of Users and items "
   ]
  },
  {
   "cell_type": "code",
   "execution_count": 23,
   "metadata": {
    "collapsed": false
   },
   "outputs": [
    {
     "name": "stdout",
     "output_type": "stream",
     "text": [
      "# of users 1895\n"
     ]
    }
   ],
   "source": [
    "users = merged['personId'].unique() ; print(\"# of users\" , len(users))"
   ]
  },
  {
   "cell_type": "code",
   "execution_count": 24,
   "metadata": {
    "collapsed": false
   },
   "outputs": [
    {
     "name": "stdout",
     "output_type": "stream",
     "text": [
      "# of items 2979\n"
     ]
    }
   ],
   "source": [
    "items = merged['contentId'].unique() ; print(\"# of items\" , len(items))"
   ]
  },
  {
   "cell_type": "code",
   "execution_count": 25,
   "metadata": {
    "collapsed": true
   },
   "outputs": [],
   "source": [
    "train_data, test_data = train_test_split(merged, test_size = 0.20, random_state=0)"
   ]
  },
  {
   "cell_type": "markdown",
   "metadata": {},
   "source": [
    "# ------------------------------ The recommendation starts here ---------------------------------"
   ]
  },
  {
   "cell_type": "markdown",
   "metadata": {},
   "source": [
    "### Recommend by Popularity Concept "
   ]
  },
  {
   "cell_type": "markdown",
   "metadata": {},
   "source": [
    "Recommend the items having more users-intercation"
   ]
  },
  {
   "cell_type": "code",
   "execution_count": 26,
   "metadata": {
    "collapsed": false
   },
   "outputs": [],
   "source": [
    "pm = Rd.popularity_recommender_py()\n",
    "pm.create(train_data, 'personId', 'contentId')"
   ]
  },
  {
   "cell_type": "code",
   "execution_count": 27,
   "metadata": {
    "collapsed": false
   },
   "outputs": [
    {
     "data": {
      "text/html": [
       "<div>\n",
       "<table border=\"1\" class=\"dataframe\">\n",
       "  <thead>\n",
       "    <tr style=\"text-align: right;\">\n",
       "      <th></th>\n",
       "      <th>personId</th>\n",
       "      <th>contentId</th>\n",
       "      <th>score</th>\n",
       "      <th>Rank</th>\n",
       "      <th>title</th>\n",
       "      <th>text</th>\n",
       "    </tr>\n",
       "  </thead>\n",
       "  <tbody>\n",
       "    <tr>\n",
       "      <th>0</th>\n",
       "      <td>-3596626804281480007</td>\n",
       "      <td>-4029704725707465084</td>\n",
       "      <td>340</td>\n",
       "      <td>1.0</td>\n",
       "      <td>Former Google career coach shares a visual tri...</td>\n",
       "      <td>If you want 2017 to be an exciting year, desig...</td>\n",
       "    </tr>\n",
       "    <tr>\n",
       "      <th>1</th>\n",
       "      <td>-3596626804281480007</td>\n",
       "      <td>-133139342397538859</td>\n",
       "      <td>239</td>\n",
       "      <td>2.0</td>\n",
       "      <td>Novo workaholic trabalha, pratica esportes e t...</td>\n",
       "      <td>Novo workaholic não abre mão do esporte e da f...</td>\n",
       "    </tr>\n",
       "    <tr>\n",
       "      <th>2</th>\n",
       "      <td>-3596626804281480007</td>\n",
       "      <td>8657408509986329668</td>\n",
       "      <td>237</td>\n",
       "      <td>3.0</td>\n",
       "      <td>Pull request first - Practical Blend</td>\n",
       "      <td>Pull request first After two years of working ...</td>\n",
       "    </tr>\n",
       "    <tr>\n",
       "      <th>3</th>\n",
       "      <td>-3596626804281480007</td>\n",
       "      <td>-6843047699859121724</td>\n",
       "      <td>230</td>\n",
       "      <td>4.0</td>\n",
       "      <td>Ganhe 6 meses de acesso ao Pluralsight, maior ...</td>\n",
       "      <td>Ganhe 6 meses de acesso ao Pluralsight, maior ...</td>\n",
       "    </tr>\n",
       "    <tr>\n",
       "      <th>4</th>\n",
       "      <td>-3596626804281480007</td>\n",
       "      <td>-6783772548752091658</td>\n",
       "      <td>229</td>\n",
       "      <td>5.0</td>\n",
       "      <td>Livro: Retrospectivas Divertidas</td>\n",
       "      <td>Neste livro, nós fornecemos um conjunto de fer...</td>\n",
       "    </tr>\n",
       "    <tr>\n",
       "      <th>5</th>\n",
       "      <td>-3596626804281480007</td>\n",
       "      <td>2857117417189640073</td>\n",
       "      <td>209</td>\n",
       "      <td>6.0</td>\n",
       "      <td>Running GV sprints inside corporates - learn f...</td>\n",
       "      <td>Running GV sprints inside corporates - learn f...</td>\n",
       "    </tr>\n",
       "    <tr>\n",
       "      <th>6</th>\n",
       "      <td>-3596626804281480007</td>\n",
       "      <td>-8208801367848627943</td>\n",
       "      <td>208</td>\n",
       "      <td>7.0</td>\n",
       "      <td>Ray Kurzweil: The world isn't getting worse - ...</td>\n",
       "      <td>Ray Kurzweil, the author, inventor, computer s...</td>\n",
       "    </tr>\n",
       "    <tr>\n",
       "      <th>7</th>\n",
       "      <td>-3596626804281480007</td>\n",
       "      <td>-2358756719610361882</td>\n",
       "      <td>208</td>\n",
       "      <td>8.0</td>\n",
       "      <td>Custo do Erro - Cinco motivos para investir em...</td>\n",
       "      <td>Atualmente, o custo de manutenção de software ...</td>\n",
       "    </tr>\n",
       "    <tr>\n",
       "      <th>8</th>\n",
       "      <td>-3596626804281480007</td>\n",
       "      <td>-1297580205670251233</td>\n",
       "      <td>206</td>\n",
       "      <td>9.0</td>\n",
       "      <td>A minha viagem à Maternidade #tetodomundo</td>\n",
       "      <td>Já fazia uma semana, desde o dia 26 de dezembr...</td>\n",
       "    </tr>\n",
       "    <tr>\n",
       "      <th>9</th>\n",
       "      <td>-3596626804281480007</td>\n",
       "      <td>3367026768872537336</td>\n",
       "      <td>202</td>\n",
       "      <td>10.0</td>\n",
       "      <td>Seja esperto no trabalho: Melhore a comunicaçã...</td>\n",
       "      <td>Seja Esperto no Trabalho: Melhore a Comunicaçã...</td>\n",
       "    </tr>\n",
       "  </tbody>\n",
       "</table>\n",
       "</div>"
      ],
      "text/plain": [
       "              personId            contentId  score  Rank  \\\n",
       "0 -3596626804281480007 -4029704725707465084    340   1.0   \n",
       "1 -3596626804281480007  -133139342397538859    239   2.0   \n",
       "2 -3596626804281480007  8657408509986329668    237   3.0   \n",
       "3 -3596626804281480007 -6843047699859121724    230   4.0   \n",
       "4 -3596626804281480007 -6783772548752091658    229   5.0   \n",
       "5 -3596626804281480007  2857117417189640073    209   6.0   \n",
       "6 -3596626804281480007 -8208801367848627943    208   7.0   \n",
       "7 -3596626804281480007 -2358756719610361882    208   8.0   \n",
       "8 -3596626804281480007 -1297580205670251233    206   9.0   \n",
       "9 -3596626804281480007  3367026768872537336    202  10.0   \n",
       "\n",
       "                                               title  \\\n",
       "0  Former Google career coach shares a visual tri...   \n",
       "1  Novo workaholic trabalha, pratica esportes e t...   \n",
       "2               Pull request first - Practical Blend   \n",
       "3  Ganhe 6 meses de acesso ao Pluralsight, maior ...   \n",
       "4                   Livro: Retrospectivas Divertidas   \n",
       "5  Running GV sprints inside corporates - learn f...   \n",
       "6  Ray Kurzweil: The world isn't getting worse - ...   \n",
       "7  Custo do Erro - Cinco motivos para investir em...   \n",
       "8          A minha viagem à Maternidade #tetodomundo   \n",
       "9  Seja esperto no trabalho: Melhore a comunicaçã...   \n",
       "\n",
       "                                                text  \n",
       "0  If you want 2017 to be an exciting year, desig...  \n",
       "1  Novo workaholic não abre mão do esporte e da f...  \n",
       "2  Pull request first After two years of working ...  \n",
       "3  Ganhe 6 meses de acesso ao Pluralsight, maior ...  \n",
       "4  Neste livro, nós fornecemos um conjunto de fer...  \n",
       "5  Running GV sprints inside corporates - learn f...  \n",
       "6  Ray Kurzweil, the author, inventor, computer s...  \n",
       "7  Atualmente, o custo de manutenção de software ...  \n",
       "8  Já fazia uma semana, desde o dia 26 de dezembr...  \n",
       "9  Seja Esperto no Trabalho: Melhore a Comunicaçã...  "
      ]
     },
     "execution_count": 27,
     "metadata": {},
     "output_type": "execute_result"
    }
   ],
   "source": [
    "user_id = users[5]\n",
    "rec_list = pm.recommend(user_id) \n",
    "described = pd.merge(rec_list, df_acrticles,how='inner', on=['contentId']) ; described.head(10)"
   ]
  },
  {
   "cell_type": "markdown",
   "metadata": {},
   "source": [
    "### Similarity -  Based Recommender (co-occurence matrix approach )"
   ]
  },
  {
   "cell_type": "markdown",
   "metadata": {},
   "source": [
    "### Basic Steps of the recommender building : ----------------------------------------------------------------------------------------\n",
    "    we compute the co-occurence matrix , number of times item x and item y are interacted by the same user : \n",
    "    - then we construct a matrix of size (n_of_user_items)x(all_items) \n",
    "    - we take the average of each column to compute relatedness scores of all items with user items matrix will be of size  (1,all_items)\n",
    "    - Then we take the top 10 Best scores\n",
    "### ------------------------------------------------------------------------------------------------------------------------------------------------------"
   ]
  },
  {
   "cell_type": "code",
   "execution_count": 28,
   "metadata": {
    "collapsed": true
   },
   "outputs": [],
   "source": [
    "is_model = Rd.item_similarity_recommender_py()\n",
    "is_model.create(train_data, 'personId', 'contentId')"
   ]
  },
  {
   "cell_type": "code",
   "execution_count": 29,
   "metadata": {
    "collapsed": false
   },
   "outputs": [
    {
     "name": "stdout",
     "output_type": "stream",
     "text": [
      "No. of unique songs for the user: 359\n",
      "no. of unique songs in the training set: 2940\n",
      "Non zero values in cooccurence_matrix :515958\n"
     ]
    }
   ],
   "source": [
    "#Print the songs for the user in training data\n",
    "user_id = users[5]\n",
    "user_items = is_model.get_user_items(user_id)\n",
    "\n",
    "#Recommend songs for the user using personalized model\n",
    "rec_1 = is_model.recommend(user_id)"
   ]
  },
  {
   "cell_type": "code",
   "execution_count": 30,
   "metadata": {
    "collapsed": false
   },
   "outputs": [
    {
     "data": {
      "text/html": [
       "<div>\n",
       "<table border=\"1\" class=\"dataframe\">\n",
       "  <thead>\n",
       "    <tr style=\"text-align: right;\">\n",
       "      <th></th>\n",
       "      <th>personId</th>\n",
       "      <th>contentId</th>\n",
       "      <th>score</th>\n",
       "      <th>rank</th>\n",
       "    </tr>\n",
       "  </thead>\n",
       "  <tbody>\n",
       "    <tr>\n",
       "      <th>0</th>\n",
       "      <td>-3.596627e+18</td>\n",
       "      <td>7.395436e+18</td>\n",
       "      <td>0.113360</td>\n",
       "      <td>1.0</td>\n",
       "    </tr>\n",
       "    <tr>\n",
       "      <th>1</th>\n",
       "      <td>-3.596627e+18</td>\n",
       "      <td>-5.778989e+18</td>\n",
       "      <td>0.102920</td>\n",
       "      <td>2.0</td>\n",
       "    </tr>\n",
       "    <tr>\n",
       "      <th>2</th>\n",
       "      <td>-3.596627e+18</td>\n",
       "      <td>-9.033212e+18</td>\n",
       "      <td>0.101333</td>\n",
       "      <td>3.0</td>\n",
       "    </tr>\n",
       "    <tr>\n",
       "      <th>3</th>\n",
       "      <td>-3.596627e+18</td>\n",
       "      <td>2.625884e+18</td>\n",
       "      <td>0.101162</td>\n",
       "      <td>4.0</td>\n",
       "    </tr>\n",
       "    <tr>\n",
       "      <th>4</th>\n",
       "      <td>-3.596627e+18</td>\n",
       "      <td>-2.118981e+18</td>\n",
       "      <td>0.098984</td>\n",
       "      <td>5.0</td>\n",
       "    </tr>\n",
       "    <tr>\n",
       "      <th>5</th>\n",
       "      <td>-3.596627e+18</td>\n",
       "      <td>-2.423593e+18</td>\n",
       "      <td>0.097792</td>\n",
       "      <td>6.0</td>\n",
       "    </tr>\n",
       "    <tr>\n",
       "      <th>6</th>\n",
       "      <td>-3.596627e+18</td>\n",
       "      <td>4.843782e+18</td>\n",
       "      <td>0.096652</td>\n",
       "      <td>7.0</td>\n",
       "    </tr>\n",
       "    <tr>\n",
       "      <th>7</th>\n",
       "      <td>-3.596627e+18</td>\n",
       "      <td>-1.556170e+18</td>\n",
       "      <td>0.094999</td>\n",
       "      <td>8.0</td>\n",
       "    </tr>\n",
       "    <tr>\n",
       "      <th>8</th>\n",
       "      <td>-3.596627e+18</td>\n",
       "      <td>5.237574e+18</td>\n",
       "      <td>0.094920</td>\n",
       "      <td>9.0</td>\n",
       "    </tr>\n",
       "    <tr>\n",
       "      <th>9</th>\n",
       "      <td>-3.596627e+18</td>\n",
       "      <td>5.314107e+18</td>\n",
       "      <td>0.094442</td>\n",
       "      <td>10.0</td>\n",
       "    </tr>\n",
       "  </tbody>\n",
       "</table>\n",
       "</div>"
      ],
      "text/plain": [
       "       personId     contentId     score  rank\n",
       "0 -3.596627e+18  7.395436e+18  0.113360   1.0\n",
       "1 -3.596627e+18 -5.778989e+18  0.102920   2.0\n",
       "2 -3.596627e+18 -9.033212e+18  0.101333   3.0\n",
       "3 -3.596627e+18  2.625884e+18  0.101162   4.0\n",
       "4 -3.596627e+18 -2.118981e+18  0.098984   5.0\n",
       "5 -3.596627e+18 -2.423593e+18  0.097792   6.0\n",
       "6 -3.596627e+18  4.843782e+18  0.096652   7.0\n",
       "7 -3.596627e+18 -1.556170e+18  0.094999   8.0\n",
       "8 -3.596627e+18  5.237574e+18  0.094920   9.0\n",
       "9 -3.596627e+18  5.314107e+18  0.094442  10.0"
      ]
     },
     "execution_count": 30,
     "metadata": {},
     "output_type": "execute_result"
    }
   ],
   "source": [
    "rec_1"
   ]
  },
  {
   "cell_type": "markdown",
   "metadata": {},
   "source": [
    "## Content Based Recommender-system"
   ]
  },
  {
   "cell_type": "markdown",
   "metadata": {},
   "source": [
    "##### Cosine measure based similarity Extraction "
   ]
  },
  {
   "cell_type": "code",
   "execution_count": 31,
   "metadata": {
    "collapsed": true
   },
   "outputs": [],
   "source": [
    "stopwords_list = stopwords.words('english') + stopwords.words('portuguese')"
   ]
  },
  {
   "cell_type": "code",
   "execution_count": 32,
   "metadata": {
    "collapsed": false
   },
   "outputs": [],
   "source": [
    "vectorizer = TfidfVectorizer(analyzer='word',\n",
    "                     ngram_range=(1, 2),\n",
    "                     min_df=0.003,\n",
    "                     max_df=0.5,\n",
    "                     max_features=5000,\n",
    "                     stop_words=stopwords_list)"
   ]
  },
  {
   "cell_type": "code",
   "execution_count": 33,
   "metadata": {
    "collapsed": false
   },
   "outputs": [
    {
     "name": "stderr",
     "output_type": "stream",
     "text": [
      "C:\\Users\\HP\\Anaconda3\\lib\\site-packages\\sklearn\\feature_extraction\\text.py:1015: FutureWarning: Conversion of the second argument of issubdtype from `float` to `np.floating` is deprecated. In future, it will be treated as `np.float64 == np.dtype(float).type`.\n",
      "  if hasattr(X, 'dtype') and np.issubdtype(X.dtype, np.float):\n"
     ]
    }
   ],
   "source": [
    "tfidf_matrix = vectorizer.fit_transform(train_data['title'] + \"\" + train_data['text'])"
   ]
  },
  {
   "cell_type": "code",
   "execution_count": 34,
   "metadata": {
    "collapsed": false
   },
   "outputs": [
    {
     "data": {
      "text/plain": [
       "(57815, 5000)"
      ]
     },
     "execution_count": 34,
     "metadata": {},
     "output_type": "execute_result"
    }
   ],
   "source": [
    "tfidf_matrix.shape"
   ]
  },
  {
   "cell_type": "markdown",
   "metadata": {
    "collapsed": true
   },
   "source": [
    "#### Test the model Content_based_Recommendation with TF-IDF"
   ]
  },
  {
   "cell_type": "markdown",
   "metadata": {},
   "source": [
    "### Basic Steps of the recommender building : ----------------------------------------------------------------------------------------\n",
    "    1 - we compute the tfidf_matrix from articles contents ( 'title' and 'text' ) : the frequency of a word in a doc we get a matrix with size (n_vocab , n_features = 5000 ) \n",
    "    2 - we compute the features of each article in the data-set we got a matrix (  n_articles , n_features )\n",
    "    3 - Similarly , we compute the features of each article in the user items ( n_user_articles , n_features )\n",
    "    4 - Compute the cosine similarity betwen user_features and all_articles_features we got a matrix of (n_user_articles , n_artilces)\n",
    "    5 - Sum over user_articles ( we could weight this summation by the eventStregnth ( compute the interest of user to the item by summing its associated eventStrength to a given item ) this value may be used to rise score of interesting items but it still optional\n",
    "    6 - we got score of all_items (1,n_articles) we got the then the best 20 items with best scores\n",
    "### ------------------------------------------------------------------------------------------------------------------------------------------------------"
   ]
  },
  {
   "cell_type": "code",
   "execution_count": 35,
   "metadata": {
    "collapsed": false
   },
   "outputs": [
    {
     "data": {
      "text/plain": [
       "<module 'Recommenders' from 'C:\\\\Users\\\\HP\\\\Anaconda3\\\\Scripts\\\\Natural-Language-Processing\\\\Recommender-systems\\\\cleaned-version\\\\Recommenders.py'>"
      ]
     },
     "execution_count": 35,
     "metadata": {},
     "output_type": "execute_result"
    }
   ],
   "source": [
    "importlib.reload(Rd)"
   ]
  },
  {
   "cell_type": "code",
   "execution_count": 36,
   "metadata": {
    "collapsed": false
   },
   "outputs": [],
   "source": [
    "cont_rec = Rd.content_relatedness_recommender_py()\n",
    "cont_rec.create(train_data, 'personId', 'contentId')"
   ]
  },
  {
   "cell_type": "code",
   "execution_count": 37,
   "metadata": {
    "collapsed": false
   },
   "outputs": [],
   "source": [
    "cont_rec.set_matrix(tfidf_matrix)"
   ]
  },
  {
   "cell_type": "code",
   "execution_count": 38,
   "metadata": {
    "collapsed": false,
    "scrolled": true
   },
   "outputs": [
    {
     "name": "stdout",
     "output_type": "stream",
     "text": [
      "Getting Similar items ...\n",
      "Done !\n"
     ]
    }
   ],
   "source": [
    "df = cont_rec.recommend(user_id,20)"
   ]
  },
  {
   "cell_type": "code",
   "execution_count": 135,
   "metadata": {
    "collapsed": false
   },
   "outputs": [
    {
     "data": {
      "text/html": [
       "<div>\n",
       "<table border=\"1\" class=\"dataframe\">\n",
       "  <thead>\n",
       "    <tr style=\"text-align: right;\">\n",
       "      <th></th>\n",
       "      <th>title</th>\n",
       "      <th>contentId</th>\n",
       "      <th>score</th>\n",
       "    </tr>\n",
       "  </thead>\n",
       "  <tbody>\n",
       "    <tr>\n",
       "      <th>49326</th>\n",
       "      <td>12 JavaScript Hacks</td>\n",
       "      <td>-1022885988494278200</td>\n",
       "      <td>0.466420</td>\n",
       "    </tr>\n",
       "    <tr>\n",
       "      <th>18143</th>\n",
       "      <td>Johnson &amp; Johnson compra líder global em dermo...</td>\n",
       "      <td>2817960273225808857</td>\n",
       "      <td>0.466420</td>\n",
       "    </tr>\n",
       "    <tr>\n",
       "      <th>10192</th>\n",
       "      <td>Google lança teclado virtual para iPhone com r...</td>\n",
       "      <td>-5941854046477982982</td>\n",
       "      <td>0.466420</td>\n",
       "    </tr>\n",
       "    <tr>\n",
       "      <th>29299</th>\n",
       "      <td>Unknown NEO GEO MVS Fighting Game Discovered &amp;...</td>\n",
       "      <td>-9007594455502730692</td>\n",
       "      <td>0.461462</td>\n",
       "    </tr>\n",
       "    <tr>\n",
       "      <th>69625</th>\n",
       "      <td>Hedron: Or my dissatisfaction with local devel...</td>\n",
       "      <td>8905656922810620012</td>\n",
       "      <td>0.461462</td>\n",
       "    </tr>\n",
       "    <tr>\n",
       "      <th>62827</th>\n",
       "      <td>Drupal 8 CI/CD with Docker via Jenkins. Part 1...</td>\n",
       "      <td>-91139000311163410</td>\n",
       "      <td>0.461462</td>\n",
       "    </tr>\n",
       "    <tr>\n",
       "      <th>48160</th>\n",
       "      <td>Empresas de tecnologia preparam mais demissões...</td>\n",
       "      <td>6873454157736399518</td>\n",
       "      <td>0.454523</td>\n",
       "    </tr>\n",
       "    <tr>\n",
       "      <th>19186</th>\n",
       "      <td>System Code Geeks are giving away a FREE Subli...</td>\n",
       "      <td>-986193709330758766</td>\n",
       "      <td>0.413921</td>\n",
       "    </tr>\n",
       "    <tr>\n",
       "      <th>71783</th>\n",
       "      <td>Concrete things you can do about your technica...</td>\n",
       "      <td>-5605799891597699962</td>\n",
       "      <td>0.409897</td>\n",
       "    </tr>\n",
       "    <tr>\n",
       "      <th>13407</th>\n",
       "      <td>Scalable Microservices with Kubernetes | Udacity</td>\n",
       "      <td>8963770574956550187</td>\n",
       "      <td>0.392571</td>\n",
       "    </tr>\n",
       "    <tr>\n",
       "      <th>26715</th>\n",
       "      <td>Natura está em busca de startups para gerar no...</td>\n",
       "      <td>-2307670819023106063</td>\n",
       "      <td>0.391988</td>\n",
       "    </tr>\n",
       "    <tr>\n",
       "      <th>45778</th>\n",
       "      <td>Mobify report reveals impact of mobile website...</td>\n",
       "      <td>-8950763842769120954</td>\n",
       "      <td>0.388864</td>\n",
       "    </tr>\n",
       "    <tr>\n",
       "      <th>28572</th>\n",
       "      <td>What's the Version of my Deployed Application?...</td>\n",
       "      <td>-5839185923562195912</td>\n",
       "      <td>0.388864</td>\n",
       "    </tr>\n",
       "    <tr>\n",
       "      <th>35703</th>\n",
       "      <td>TensorFlow v0.9 now available with improved mo...</td>\n",
       "      <td>-2547386150711652030</td>\n",
       "      <td>0.388864</td>\n",
       "    </tr>\n",
       "    <tr>\n",
       "      <th>27919</th>\n",
       "      <td>Good riddance, gig economy: Uber, Ayn Rand and...</td>\n",
       "      <td>-3367778232969996503</td>\n",
       "      <td>0.388764</td>\n",
       "    </tr>\n",
       "    <tr>\n",
       "      <th>37715</th>\n",
       "      <td>Within a Decade, Retail Banks will be Dead</td>\n",
       "      <td>-8854146354650101086</td>\n",
       "      <td>0.388764</td>\n",
       "    </tr>\n",
       "    <tr>\n",
       "      <th>17442</th>\n",
       "      <td>Rede, do Itaú, lança carteira digital e prevê ...</td>\n",
       "      <td>84318068629167514</td>\n",
       "      <td>0.383244</td>\n",
       "    </tr>\n",
       "    <tr>\n",
       "      <th>64331</th>\n",
       "      <td>Como a Netshoes se preparou para a Black Frida...</td>\n",
       "      <td>2215773447123360543</td>\n",
       "      <td>0.383244</td>\n",
       "    </tr>\n",
       "    <tr>\n",
       "      <th>1698</th>\n",
       "      <td>Here's proof that Google is getting serious ab...</td>\n",
       "      <td>-7331393944609614247</td>\n",
       "      <td>0.383068</td>\n",
       "    </tr>\n",
       "    <tr>\n",
       "      <th>68342</th>\n",
       "      <td>Vídeos de testes unitários em sistemas embarca...</td>\n",
       "      <td>-2386148284399181873</td>\n",
       "      <td>0.383068</td>\n",
       "    </tr>\n",
       "  </tbody>\n",
       "</table>\n",
       "</div>"
      ],
      "text/plain": [
       "                                                   title            contentId  \\\n",
       "49326                                12 JavaScript Hacks -1022885988494278200   \n",
       "18143  Johnson & Johnson compra líder global em dermo...  2817960273225808857   \n",
       "10192  Google lança teclado virtual para iPhone com r... -5941854046477982982   \n",
       "29299  Unknown NEO GEO MVS Fighting Game Discovered &... -9007594455502730692   \n",
       "69625  Hedron: Or my dissatisfaction with local devel...  8905656922810620012   \n",
       "62827  Drupal 8 CI/CD with Docker via Jenkins. Part 1...   -91139000311163410   \n",
       "48160  Empresas de tecnologia preparam mais demissões...  6873454157736399518   \n",
       "19186  System Code Geeks are giving away a FREE Subli...  -986193709330758766   \n",
       "71783  Concrete things you can do about your technica... -5605799891597699962   \n",
       "13407   Scalable Microservices with Kubernetes | Udacity  8963770574956550187   \n",
       "26715  Natura está em busca de startups para gerar no... -2307670819023106063   \n",
       "45778  Mobify report reveals impact of mobile website... -8950763842769120954   \n",
       "28572  What's the Version of my Deployed Application?... -5839185923562195912   \n",
       "35703  TensorFlow v0.9 now available with improved mo... -2547386150711652030   \n",
       "27919  Good riddance, gig economy: Uber, Ayn Rand and... -3367778232969996503   \n",
       "37715         Within a Decade, Retail Banks will be Dead -8854146354650101086   \n",
       "17442  Rede, do Itaú, lança carteira digital e prevê ...    84318068629167514   \n",
       "64331  Como a Netshoes se preparou para a Black Frida...  2215773447123360543   \n",
       "1698   Here's proof that Google is getting serious ab... -7331393944609614247   \n",
       "68342  Vídeos de testes unitários em sistemas embarca... -2386148284399181873   \n",
       "\n",
       "          score  \n",
       "49326  0.466420  \n",
       "18143  0.466420  \n",
       "10192  0.466420  \n",
       "29299  0.461462  \n",
       "69625  0.461462  \n",
       "62827  0.461462  \n",
       "48160  0.454523  \n",
       "19186  0.413921  \n",
       "71783  0.409897  \n",
       "13407  0.392571  \n",
       "26715  0.391988  \n",
       "45778  0.388864  \n",
       "28572  0.388864  \n",
       "35703  0.388864  \n",
       "27919  0.388764  \n",
       "37715  0.388764  \n",
       "17442  0.383244  \n",
       "64331  0.383244  \n",
       "1698   0.383068  \n",
       "68342  0.383068  "
      ]
     },
     "execution_count": 135,
     "metadata": {},
     "output_type": "execute_result"
    }
   ],
   "source": [
    "df"
   ]
  },
  {
   "cell_type": "markdown",
   "metadata": {},
   "source": [
    "### Test the model Content_based_Recommendation with Doc2vec"
   ]
  },
  {
   "cell_type": "markdown",
   "metadata": {},
   "source": [
    "##### ----- Build the recommender "
   ]
  },
  {
   "cell_type": "markdown",
   "metadata": {},
   "source": [
    "### Basic Steps of the recommender building : ----------------------------------------------------------------------------------------\n",
    "    It has the same principle as tfidf_features recommender here we just use an other feature given by doc2vec\n",
    "   \n",
    "    1 - we train the doc2vec model from articles contents ( 'title' and 'text' ) we got a matrix of (n_articles , n_features = 1000)\n",
    "    2 - Compute the cosine similarity betwen user_features and all_articles_features we got a matrix of (n_user_articles , n_artilces)\n",
    "    3 - Sum over user_articles ( we could weight this summation by the eventStregnth ( compute the interest of user to the item by summing its associated eventStrength to a given item ) this value may be used to rise score of interesting items but it still optional\n",
    "    4 - we got score of all_items (1,n_articles) we got the then the best 20 items with best scores\n",
    "### ------------------------------------------------------------------------------------------------------------------------------------------------------"
   ]
  },
  {
   "cell_type": "code",
   "execution_count": 81,
   "metadata": {
    "collapsed": false
   },
   "outputs": [
    {
     "data": {
      "text/plain": [
       "<module 'Recommenders' from 'C:\\\\Users\\\\HP\\\\Anaconda3\\\\Scripts\\\\Natural-Language-Processing\\\\Recommender-systems\\\\Recommenders.py'>"
      ]
     },
     "execution_count": 81,
     "metadata": {},
     "output_type": "execute_result"
    }
   ],
   "source": [
    "importlib.reload(Rd)"
   ]
  },
  {
   "cell_type": "code",
   "execution_count": 82,
   "metadata": {
    "collapsed": true
   },
   "outputs": [],
   "source": [
    "doc_model = Rd.content_relatedness_doc2vec_py()"
   ]
  },
  {
   "cell_type": "code",
   "execution_count": 83,
   "metadata": {
    "collapsed": true
   },
   "outputs": [],
   "source": [
    "doc_model.create(train_data, 'personId', 'contentId')"
   ]
  },
  {
   "cell_type": "raw",
   "metadata": {},
   "source": [
    "## This line is executed to train or retrain the model\n",
    "tagged = doc_model.tag_docs()"
   ]
  },
  {
   "cell_type": "markdown",
   "metadata": {},
   "source": [
    "###### ------Load the pre-trained Doc2Vec model"
   ]
  },
  {
   "cell_type": "code",
   "execution_count": 78,
   "metadata": {
    "collapsed": false
   },
   "outputs": [],
   "source": [
    "model = models.Doc2Vec.load(\"doc2vec_article_1000\")"
   ]
  },
  {
   "cell_type": "code",
   "execution_count": 79,
   "metadata": {
    "collapsed": false
   },
   "outputs": [
    {
     "name": "stdout",
     "output_type": "stream",
     "text": [
      "Start Building the similarity matrix\n",
      "Done !\n"
     ]
    }
   ],
   "source": [
    "mat = doc_model.construct_matrix(model,user_id)"
   ]
  },
  {
   "cell_type": "code",
   "execution_count": 84,
   "metadata": {
    "collapsed": true
   },
   "outputs": [],
   "source": [
    "   # Run this code only if .construct_matrix() is not runned\n",
    "doc_model.set_cosine_proximity(mat)\n",
    "unique_train_data = train_data.drop_duplicates('contentId')\n",
    "doc_model.doc_tag = unique_train_data['contentId'].tolist()"
   ]
  },
  {
   "cell_type": "code",
   "execution_count": 85,
   "metadata": {
    "collapsed": false
   },
   "outputs": [
    {
     "name": "stdout",
     "output_type": "stream",
     "text": [
      "Getting Similar items ...\n",
      "Done !\n"
     ]
    },
    {
     "data": {
      "text/html": [
       "<div>\n",
       "<table border=\"1\" class=\"dataframe\">\n",
       "  <thead>\n",
       "    <tr style=\"text-align: right;\">\n",
       "      <th></th>\n",
       "      <th>title</th>\n",
       "      <th>contentId</th>\n",
       "      <th>score</th>\n",
       "    </tr>\n",
       "  </thead>\n",
       "  <tbody>\n",
       "    <tr>\n",
       "      <th>68367</th>\n",
       "      <td>Docker - Build, Ship, and Run Any App, Anywhere</td>\n",
       "      <td>-1999468346928419252</td>\n",
       "      <td>0.544360</td>\n",
       "    </tr>\n",
       "    <tr>\n",
       "      <th>37815</th>\n",
       "      <td>Design Better Forms - uxdesign.cc - User Exper...</td>\n",
       "      <td>9079880752026843473</td>\n",
       "      <td>0.531616</td>\n",
       "    </tr>\n",
       "    <tr>\n",
       "      <th>49354</th>\n",
       "      <td>Gartner Reprint</td>\n",
       "      <td>-3959242148361340089</td>\n",
       "      <td>0.530856</td>\n",
       "    </tr>\n",
       "    <tr>\n",
       "      <th>66812</th>\n",
       "      <td>LPIC-OT DevOps Engineer | Linux Professional I...</td>\n",
       "      <td>-1572252285162838958</td>\n",
       "      <td>0.525188</td>\n",
       "    </tr>\n",
       "    <tr>\n",
       "      <th>20384</th>\n",
       "      <td>Google isn't abandoning Hangouts for its new c...</td>\n",
       "      <td>6045455576279706291</td>\n",
       "      <td>0.524121</td>\n",
       "    </tr>\n",
       "    <tr>\n",
       "      <th>33541</th>\n",
       "      <td>Bose's New Speaker Only Costs $150 But You Hav...</td>\n",
       "      <td>4485571547865864859</td>\n",
       "      <td>0.523987</td>\n",
       "    </tr>\n",
       "    <tr>\n",
       "      <th>18143</th>\n",
       "      <td>Johnson &amp; Johnson compra líder global em dermo...</td>\n",
       "      <td>2817960273225808857</td>\n",
       "      <td>0.521496</td>\n",
       "    </tr>\n",
       "    <tr>\n",
       "      <th>21995</th>\n",
       "      <td>Senado lança enquete para saber se você é cont...</td>\n",
       "      <td>-4613284400780388067</td>\n",
       "      <td>0.520205</td>\n",
       "    </tr>\n",
       "    <tr>\n",
       "      <th>29058</th>\n",
       "      <td>Why It's Time to Take Google's PC Operating Sy...</td>\n",
       "      <td>8962537427807366481</td>\n",
       "      <td>0.517117</td>\n",
       "    </tr>\n",
       "    <tr>\n",
       "      <th>26476</th>\n",
       "      <td>Bolt teria recebido uns R$ 12 milhões por camp...</td>\n",
       "      <td>5462702203586546682</td>\n",
       "      <td>0.516342</td>\n",
       "    </tr>\n",
       "    <tr>\n",
       "      <th>16099</th>\n",
       "      <td>Ouça a música criada pela inteligência artific...</td>\n",
       "      <td>5787934590133549357</td>\n",
       "      <td>0.515982</td>\n",
       "    </tr>\n",
       "    <tr>\n",
       "      <th>21100</th>\n",
       "      <td>Indústria 4.0: desafios e oportunidades</td>\n",
       "      <td>-1021685224930603833</td>\n",
       "      <td>0.514371</td>\n",
       "    </tr>\n",
       "    <tr>\n",
       "      <th>67881</th>\n",
       "      <td>Nova pulseira tecnológica avisa se você já beb...</td>\n",
       "      <td>-8948234514303933700</td>\n",
       "      <td>0.513404</td>\n",
       "    </tr>\n",
       "    <tr>\n",
       "      <th>40912</th>\n",
       "      <td>Game On: 5 Global Mobile Gaming Trends</td>\n",
       "      <td>3972616933829295411</td>\n",
       "      <td>0.510694</td>\n",
       "    </tr>\n",
       "    <tr>\n",
       "      <th>21235</th>\n",
       "      <td>Developing iOS 9 Apps with Swift - Curso gráti...</td>\n",
       "      <td>-5315378314308323942</td>\n",
       "      <td>0.509426</td>\n",
       "    </tr>\n",
       "    <tr>\n",
       "      <th>435</th>\n",
       "      <td>This Japanese Restaurant Is Decked out With Ya...</td>\n",
       "      <td>7763750328910542816</td>\n",
       "      <td>0.507694</td>\n",
       "    </tr>\n",
       "    <tr>\n",
       "      <th>11190</th>\n",
       "      <td>Revista MundoLogística - Sistema desenvolvido ...</td>\n",
       "      <td>1959495508923903948</td>\n",
       "      <td>0.507383</td>\n",
       "    </tr>\n",
       "    <tr>\n",
       "      <th>30966</th>\n",
       "      <td>\"\"Good Luck with That!\": Teaching Machines to ...</td>\n",
       "      <td>5714055337338770799</td>\n",
       "      <td>0.504479</td>\n",
       "    </tr>\n",
       "    <tr>\n",
       "      <th>20628</th>\n",
       "      <td>Wells Fargo to Verify Customers through Eye Pr...</td>\n",
       "      <td>-662806181534790446</td>\n",
       "      <td>0.504261</td>\n",
       "    </tr>\n",
       "    <tr>\n",
       "      <th>17294</th>\n",
       "      <td>Here's what Viv looks like, the next generatio...</td>\n",
       "      <td>5979676385148714519</td>\n",
       "      <td>0.502950</td>\n",
       "    </tr>\n",
       "  </tbody>\n",
       "</table>\n",
       "</div>"
      ],
      "text/plain": [
       "                                                   title            contentId  \\\n",
       "68367    Docker - Build, Ship, and Run Any App, Anywhere -1999468346928419252   \n",
       "37815  Design Better Forms - uxdesign.cc - User Exper...  9079880752026843473   \n",
       "49354                                    Gartner Reprint -3959242148361340089   \n",
       "66812  LPIC-OT DevOps Engineer | Linux Professional I... -1572252285162838958   \n",
       "20384  Google isn't abandoning Hangouts for its new c...  6045455576279706291   \n",
       "33541  Bose's New Speaker Only Costs $150 But You Hav...  4485571547865864859   \n",
       "18143  Johnson & Johnson compra líder global em dermo...  2817960273225808857   \n",
       "21995  Senado lança enquete para saber se você é cont... -4613284400780388067   \n",
       "29058  Why It's Time to Take Google's PC Operating Sy...  8962537427807366481   \n",
       "26476  Bolt teria recebido uns R$ 12 milhões por camp...  5462702203586546682   \n",
       "16099  Ouça a música criada pela inteligência artific...  5787934590133549357   \n",
       "21100            Indústria 4.0: desafios e oportunidades -1021685224930603833   \n",
       "67881  Nova pulseira tecnológica avisa se você já beb... -8948234514303933700   \n",
       "40912             Game On: 5 Global Mobile Gaming Trends  3972616933829295411   \n",
       "21235  Developing iOS 9 Apps with Swift - Curso gráti... -5315378314308323942   \n",
       "435    This Japanese Restaurant Is Decked out With Ya...  7763750328910542816   \n",
       "11190  Revista MundoLogística - Sistema desenvolvido ...  1959495508923903948   \n",
       "30966  \"\"Good Luck with That!\": Teaching Machines to ...  5714055337338770799   \n",
       "20628  Wells Fargo to Verify Customers through Eye Pr...  -662806181534790446   \n",
       "17294  Here's what Viv looks like, the next generatio...  5979676385148714519   \n",
       "\n",
       "          score  \n",
       "68367  0.544360  \n",
       "37815  0.531616  \n",
       "49354  0.530856  \n",
       "66812  0.525188  \n",
       "20384  0.524121  \n",
       "33541  0.523987  \n",
       "18143  0.521496  \n",
       "21995  0.520205  \n",
       "29058  0.517117  \n",
       "26476  0.516342  \n",
       "16099  0.515982  \n",
       "21100  0.514371  \n",
       "67881  0.513404  \n",
       "40912  0.510694  \n",
       "21235  0.509426  \n",
       "435    0.507694  \n",
       "11190  0.507383  \n",
       "30966  0.504479  \n",
       "20628  0.504261  \n",
       "17294  0.502950  "
      ]
     },
     "execution_count": 85,
     "metadata": {},
     "output_type": "execute_result"
    }
   ],
   "source": [
    "rec = doc_model.recommend(user_id,20) ; rec"
   ]
  },
  {
   "cell_type": "code",
   "execution_count": null,
   "metadata": {
    "collapsed": true
   },
   "outputs": [],
   "source": []
  }
 ],
 "metadata": {
  "anaconda-cloud": {},
  "kernelspec": {
   "display_name": "Python [Root]",
   "language": "python",
   "name": "Python [Root]"
  },
  "language_info": {
   "codemirror_mode": {
    "name": "ipython",
    "version": 3
   },
   "file_extension": ".py",
   "mimetype": "text/x-python",
   "name": "python",
   "nbconvert_exporter": "python",
   "pygments_lexer": "ipython3",
   "version": "3.5.2"
  }
 },
 "nbformat": 4,
 "nbformat_minor": 0
}
